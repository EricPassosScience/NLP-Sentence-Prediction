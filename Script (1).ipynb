{
 "cells": [
  {
   "cell_type": "code",
   "execution_count": 0,
   "metadata": {
    "application/vnd.databricks.v1+cell": {
     "cellMetadata": {
      "byteLimit": 2048000,
      "rowLimit": 10000
     },
     "inputWidgets": {},
     "nuid": "4614806a-cb80-46a1-98c8-679712e38444",
     "showTitle": false,
     "title": ""
    }
   },
   "outputs": [
    {
     "output_type": "stream",
     "name": "stdout",
     "output_type": "stream",
     "text": [
      "Versão da Linguagem Python Usada Neste Jupyter Notebook: 3.9.5\n"
     ]
    }
   ],
   "source": [
    "# Versão da Linguagem Python\n",
    "from platform import python_version\n",
    "print('Versão da Linguagem Python Usada Neste Jupyter Notebook:', python_version())"
   ]
  },
  {
   "cell_type": "code",
   "execution_count": 0,
   "metadata": {
    "application/vnd.databricks.v1+cell": {
     "cellMetadata": {
      "byteLimit": 2048000,
      "rowLimit": 10000
     },
     "inputWidgets": {},
     "nuid": "441602a3-3913-471e-934d-8564f728a562",
     "showTitle": false,
     "title": ""
    }
   },
   "outputs": [
    {
     "output_type": "stream",
     "name": "stdout",
     "output_type": "stream",
     "text": [
      "\u001B[33mWARNING: You are using pip version 21.2.4; however, version 23.1 is available.\r\nYou should consider upgrading via the '/local_disk0/.ephemeral_nfs/envs/pythonEnv-b7049fb7-a7ba-44da-b9f3-0b3051e58e52/bin/python -m pip install --upgrade pip' command.\u001B[0m\r\n\u001B[33mWARNING: You are using pip version 21.2.4; however, version 23.1 is available.\r\nYou should consider upgrading via the '/local_disk0/.ephemeral_nfs/envs/pythonEnv-b7049fb7-a7ba-44da-b9f3-0b3051e58e52/bin/python -m pip install --upgrade pip' command.\u001B[0m\r\n"
     ]
    }
   ],
   "source": [
    "# Instala o pacote watermark. \n",
    "# Esse pacote é usado para gravar as versões de outros pacotes usados neste jupyter notebook.\n",
    "!pip install -q -U watermark\n",
    "\n",
    "# Instala o PyTorch\n",
    "!pip install -q torch "
   ]
  },
  {
   "cell_type": "code",
   "execution_count": 0,
   "metadata": {
    "application/vnd.databricks.v1+cell": {
     "cellMetadata": {
      "byteLimit": 2048000,
      "rowLimit": 10000
     },
     "inputWidgets": {},
     "nuid": "27034fc9-4cca-4ac3-9063-9fe02844752f",
     "showTitle": false,
     "title": ""
    }
   },
   "outputs": [],
   "source": [
    "# Imports\n",
    "import torch\n",
    "import torch.nn as nn\n",
    "import numpy as np"
   ]
  },
  {
   "cell_type": "code",
   "execution_count": 0,
   "metadata": {
    "application/vnd.databricks.v1+cell": {
     "cellMetadata": {
      "byteLimit": 2048000,
      "rowLimit": 10000
     },
     "inputWidgets": {},
     "nuid": "713e40e7-6dbd-4805-a29a-1eb1b6f64aa2",
     "showTitle": false,
     "title": ""
    }
   },
   "outputs": [
    {
     "output_type": "stream",
     "name": "stdout",
     "output_type": "stream",
     "text": [
      "Author: Eric Passos\n\nnumpy: 1.20.3\ntorch: 1.12.1+cpu\n\n"
     ]
    }
   ],
   "source": [
    "# Versões dos pacotes usados neste jupyter notebook\n",
    "%reload_ext watermark\n",
    "%watermark -a \"Eric Passos\" --iversions"
   ]
  },
  {
   "cell_type": "markdown",
   "metadata": {
    "application/vnd.databricks.v1+cell": {
     "cellMetadata": {},
     "inputWidgets": {},
     "nuid": "6883b759-e618-4aa8-8b2b-24a4dfa3d5d0",
     "showTitle": false,
     "title": ""
    }
   },
   "source": [
    "### Preparación de los datos\n",
    "El siguiente texto es un ejemplo de una declaración de embargo. Si bien el texto representa un embargo, los datos críticos han sido reemplazados por información genérica, lo que no compromete el objetivo del estudio de caso."
   ]
  },
  {
   "cell_type": "code",
   "execution_count": 0,
   "metadata": {
    "application/vnd.databricks.v1+cell": {
     "cellMetadata": {
      "byteLimit": 2048000,
      "rowLimit": 10000
     },
     "inputWidgets": {},
     "nuid": "221fbd47-0e6e-4ae5-8aa0-03afb719159d",
     "showTitle": false,
     "title": ""
    }
   },
   "outputs": [],
   "source": [
    "# Texto de embargo de declaração\n",
    "embargo = \"\"\"O embargante sofreu o ajuizamento de ação de danos morais e materiais, cujo objeto é o reaver os \n",
    "valores pagos pelo sinal dado em um contrato de compra e venda de imóvel no qual não foi dado continuidade. Em 24 \n",
    "de fevereiro de 2012, o Magistrado proferiu decisão de fls. 277 a 280, que condenou todas as demandadas \n",
    "solidariamente no seguinte teor: Diante de todo o exposto, com fundamento no art. 1234, I, do CPC/2015, \n",
    "julgo procedentes em parte os pedidos constantes na inicial, condenando solidariamente as demandadas, XPTO LTDA, \n",
    "BOB CAMARGO DE MORAES, a Pagarema título de indenização por danos morais, consoante fundamentação acima discorrida, \n",
    "o montante de R$ 1.500,00 (um mil e quinhentos reais), corrigidos monetariamente pelo INPC desde a data \n",
    "desta decisão, acrescidos de juros de 1% ao mês, a partir da citação; condeno ainda, à restituição do valor \n",
    "pago pelo demandante como sinal da entrada do imóvel, descontando apenas 20% (vinte por cento), referente às \n",
    "despesas, devendo incidir juros de 1% (um por cento) ao mês contados da citação e correção monetária pelo INPC a \n",
    "partir da sentença. Contudo, data venia, houve omissão e obscuridade na referida decisão, haja vista que a omissão \n",
    "se deu pela ausência dos julgamentos das preliminares (Necessidade de Perícia Técnica e a incompetência de \n",
    "Juizado Especial) proposta posteriormente em aditamento de contestação (Fls 251 a 254) para impugnar áudios \n",
    "juntados pelo embargado, autorizado a ser realizada pela Douta Magistrada em audiência de Conciliação, \n",
    "instrução e julgamento de fls 235 e 236, por ausência de intimação anterior para realizar a já tratada \n",
    "impugnação aos áudios anexados.\"\"\""
   ]
  },
  {
   "cell_type": "code",
   "execution_count": 0,
   "metadata": {
    "application/vnd.databricks.v1+cell": {
     "cellMetadata": {
      "byteLimit": 2048000,
      "rowLimit": 10000
     },
     "inputWidgets": {},
     "nuid": "b9492d54-0dbc-4b19-be5a-5dab31c229ce",
     "showTitle": false,
     "title": ""
    }
   },
   "outputs": [
    {
     "output_type": "stream",
     "name": "stdout",
     "output_type": "stream",
     "text": [
      "Out[7]: {'(fls',\n '(necessidade',\n '(um',\n '(vinte',\n '1%',\n '1234',\n '150000',\n '20%',\n '2012',\n '235',\n '236',\n '24',\n '251',\n '254)',\n '277',\n '280',\n 'a',\n 'acima',\n 'acrescidos',\n 'aditamento',\n 'ainda',\n 'ajuizamento',\n 'anexados',\n 'anterior',\n 'ao',\n 'aos',\n 'apenas',\n 'art',\n 'as',\n 'audiência',\n 'ausência',\n 'autorizado',\n 'ação',\n 'bob',\n 'camargo',\n 'cento)',\n 'citação',\n 'citação;',\n 'com',\n 'como',\n 'compra',\n 'conciliação',\n 'condenando',\n 'condeno',\n 'condenou',\n 'consoante',\n 'constantes',\n 'contados',\n 'contestação',\n 'continuidade',\n 'contrato',\n 'contudo',\n 'correção',\n 'corrigidos',\n 'cpc/2015',\n 'cujo',\n 'da',\n 'dado',\n 'danos',\n 'das',\n 'data',\n 'de',\n 'decisão',\n 'demandadas',\n 'demandante',\n 'descontando',\n 'desde',\n 'despesas',\n 'desta',\n 'deu',\n 'devendo',\n 'diante',\n 'discorrida',\n 'do',\n 'dos',\n 'douta',\n 'e',\n 'em',\n 'embargado',\n 'embargante',\n 'entrada',\n 'especial)',\n 'exposto',\n 'fevereiro',\n 'fls',\n 'foi',\n 'fundamentação',\n 'fundamento',\n 'haja',\n 'houve',\n 'i',\n 'impugnar',\n 'impugnação',\n 'imóvel',\n 'incidir',\n 'incompetência',\n 'indenização',\n 'inicial',\n 'inpc',\n 'instrução',\n 'intimação',\n 'juizado',\n 'julgamento',\n 'julgamentos',\n 'julgo',\n 'juntados',\n 'juros',\n 'já',\n 'ltda',\n 'magistrada',\n 'magistrado',\n 'materiais',\n 'mil',\n 'monetariamente',\n 'monetária',\n 'montante',\n 'moraes',\n 'morais',\n 'mês',\n 'na',\n 'no',\n 'não',\n 'o',\n 'objeto',\n 'obscuridade',\n 'omissão',\n 'os',\n 'pagarema',\n 'pago',\n 'pagos',\n 'para',\n 'parte',\n 'partir',\n 'pedidos',\n 'pela',\n 'pelo',\n 'perícia',\n 'por',\n 'posteriormente',\n 'preliminares',\n 'procedentes',\n 'proferiu',\n 'proposta',\n 'qual',\n 'que',\n 'quinhentos',\n 'r$',\n 'reais)',\n 'realizada',\n 'realizar',\n 'reaver',\n 'referente',\n 'referida',\n 'restituição',\n 'se',\n 'seguinte',\n 'sentença',\n 'ser',\n 'sinal',\n 'sofreu',\n 'solidariamente',\n 'teor:',\n 'todas',\n 'todo',\n 'tratada',\n 'técnica',\n 'título',\n 'um',\n 'valor',\n 'valores',\n 'venda',\n 'venia',\n 'vista',\n 'xpto',\n 'à',\n 'às',\n 'áudios',\n 'é'}"
     ]
    }
   ],
   "source": [
    "# Limpeza do texto substituindo vírgulas e pontos por espaços e colocando as palavras em minúsculo\n",
    "embargo = embargo.replace(',','').replace('.','').lower().split()\n",
    "\n",
    "# Criação do corpus com o texto acima\n",
    "corpus = set(embargo)\n",
    "\n",
    "# Visualizamos o corpus\n",
    "corpus"
   ]
  },
  {
   "cell_type": "code",
   "execution_count": 0,
   "metadata": {
    "application/vnd.databricks.v1+cell": {
     "cellMetadata": {
      "byteLimit": 2048000,
      "rowLimit": 10000
     },
     "inputWidgets": {},
     "nuid": "cd91e239-a488-47ab-b200-419856f8ff9d",
     "showTitle": false,
     "title": ""
    }
   },
   "outputs": [],
   "source": [
    "# Comprimento do corpus\n",
    "corpus_length = len(corpus)\n",
    "\n",
    "# Dicionários para TF-IDF\n",
    "dic_palavra = {}\n",
    "dic_inverso_palavra = {}"
   ]
  },
  {
   "cell_type": "code",
   "execution_count": 0,
   "metadata": {
    "application/vnd.databricks.v1+cell": {
     "cellMetadata": {
      "byteLimit": 2048000,
      "rowLimit": 10000
     },
     "inputWidgets": {},
     "nuid": "fad0e863-72b3-4fb9-8736-c4f99249a684",
     "showTitle": false,
     "title": ""
    }
   },
   "outputs": [],
   "source": [
    "# Loop pelo corpus para criar os dicionários\n",
    "for i, palavra in enumerate(corpus):\n",
    "    dic_palavra[palavra] = i\n",
    "    dic_inverso_palavra[i] = palavra"
   ]
  },
  {
   "cell_type": "code",
   "execution_count": 0,
   "metadata": {
    "application/vnd.databricks.v1+cell": {
     "cellMetadata": {
      "byteLimit": 2048000,
      "rowLimit": 10000
     },
     "inputWidgets": {},
     "nuid": "1f8584fc-3bcf-4294-a40c-e4f80267338d",
     "showTitle": false,
     "title": ""
    }
   },
   "outputs": [],
   "source": [
    "# Lista para receber os dados\n",
    "dados = []\n",
    "\n",
    "# Loop pelo texto par extrair sentenças e palavras\n",
    "for i in range(2, len(embargo) - 2):\n",
    "    sentence = [embargo[i-2], embargo[i-1], embargo[i+1], embargo[i+2]]\n",
    "    target = embargo[i]\n",
    "    dados.append((sentence, target))"
   ]
  },
  {
   "cell_type": "markdown",
   "metadata": {
    "application/vnd.databricks.v1+cell": {
     "cellMetadata": {},
     "inputWidgets": {},
     "nuid": "abcd54c5-02a5-4530-a58b-ee0a6a90df36",
     "showTitle": false,
     "title": ""
    }
   },
   "source": [
    "¿Leíste el código anterior y entendiste lo que se hizo? Tenga en cuenta esta línea:\n",
    "\n",
    "sentencia = [embargo[i-2], embargo[i-1], embargo[i+1], embargo[i+2]]\n",
    "\n",
    "Para una palabra en el índice i, tenemos dos palabras antes y dos después. La palabra en el índice i será nuestro objetivo y la oración estará formada por las dos palabras y dos palabras después de la palabra objetivo.\n",
    "\n",
    "Después de entrenar el modelo, podremos predecir cada palabra en función de las palabras que la rodean.\n",
    "\n",
    "Aquí un ejemplo:"
   ]
  },
  {
   "cell_type": "code",
   "execution_count": 0,
   "metadata": {
    "application/vnd.databricks.v1+cell": {
     "cellMetadata": {
      "byteLimit": 2048000,
      "rowLimit": 10000
     },
     "inputWidgets": {},
     "nuid": "8e2427a1-105e-49eb-a4de-78c42adf4864",
     "showTitle": false,
     "title": ""
    }
   },
   "outputs": [
    {
     "output_type": "stream",
     "name": "stdout",
     "output_type": "stream",
     "text": [
      "(['o', 'ajuizamento', 'ação', 'de'], 'de')\n"
     ]
    }
   ],
   "source": [
    "# Visualiza os dados\n",
    "print(dados[3])"
   ]
  },
  {
   "cell_type": "markdown",
   "metadata": {
    "application/vnd.databricks.v1+cell": {
     "cellMetadata": {},
     "inputWidgets": {},
     "nuid": "68937c0a-03a2-406d-b22f-9010f7995736",
     "showTitle": false,
     "title": ""
    }
   },
   "source": [
    "Las cuatro palabras de la lista serán los datos de entrada y la palabra fuera de la lista ('de' en este caso) será la variable de salida."
   ]
  },
  {
   "cell_type": "markdown",
   "metadata": {
    "application/vnd.databricks.v1+cell": {
     "cellMetadata": {},
     "inputWidgets": {},
     "nuid": "49515da8-3685-47f1-a15f-97dfcff5f7d5",
     "showTitle": false,
     "title": ""
    }
   },
   "source": [
    "### Construcción del modelo CBoW"
   ]
  },
  {
   "cell_type": "code",
   "execution_count": 0,
   "metadata": {
    "application/vnd.databricks.v1+cell": {
     "cellMetadata": {
      "byteLimit": 2048000,
      "rowLimit": 10000
     },
     "inputWidgets": {},
     "nuid": "91e4460d-83ff-4b8d-9788-5683a328666c",
     "showTitle": false,
     "title": ""
    }
   },
   "outputs": [],
   "source": [
    "# Vamos definir o comprimento de cada embedding\n",
    "embedding_length = 20\n",
    "\n",
    "# Classe para o modelo\n",
    "class CBoW(torch.nn.Module):\n",
    "\n",
    "    # Método construtor\n",
    "    def __init__(self, corpus_length, embedding_dim):\n",
    "        super(CBoW, self).__init__()\n",
    "        \n",
    "        # Camada de entrada do modelo para criação da embedding\n",
    "        self.embeddings = nn.Embedding(corpus_length, embedding_dim)\n",
    "\n",
    "        # Camadas lineares\n",
    "        self.linear1 = nn.Linear(embedding_dim, 64)\n",
    "        self.linear2 = nn.Linear(64, corpus_length)\n",
    "        \n",
    "        # Camadas de ativação\n",
    "        self.activation_function1 = nn.ReLU()\n",
    "        self.activation_function2 = nn.LogSoftmax(dim = -1)\n",
    "\n",
    "    # Passo (forward)\n",
    "    def forward(self, inputs):\n",
    "        \n",
    "        # Aqui definimos a ordem das camadas da rede neural\n",
    "        embeds = sum(self.embeddings(inputs)).view(1,-1)\n",
    "        out = self.linear1(embeds)\n",
    "        out = self.activation_function1(out)\n",
    "        out = self.linear2(out)\n",
    "        out = self.activation_function2(out)\n",
    "        return out\n",
    "\n",
    "    # Obtém a word_emdedding\n",
    "    def get_word_emdedding(self, word):\n",
    "        word = torch.LongTensor([dic_palavra[word]])\n",
    "        return self.embeddings(word).view(1,-1)"
   ]
  },
  {
   "cell_type": "code",
   "execution_count": 0,
   "metadata": {
    "application/vnd.databricks.v1+cell": {
     "cellMetadata": {
      "byteLimit": 2048000,
      "rowLimit": 10000
     },
     "inputWidgets": {},
     "nuid": "1abba5c0-f78c-4503-9703-5f366db7ee3c",
     "showTitle": false,
     "title": ""
    }
   },
   "outputs": [],
   "source": [
    "# Cria o modelo CBoW\n",
    "modelo = CBoW(corpus_length, embedding_length)\n",
    "\n",
    "# Função de custo\n",
    "loss_function = nn.NLLLoss()\n",
    "\n",
    "# Otimizador do modelo (backpropagation)\n",
    "optimizer = torch.optim.SGD(modelo.parameters(), lr = 0.01)"
   ]
  },
  {
   "cell_type": "code",
   "execution_count": 0,
   "metadata": {
    "application/vnd.databricks.v1+cell": {
     "cellMetadata": {
      "byteLimit": 2048000,
      "rowLimit": 10000
     },
     "inputWidgets": {},
     "nuid": "24ac6139-929b-4cb0-b618-719846218a8d",
     "showTitle": false,
     "title": ""
    }
   },
   "outputs": [],
   "source": [
    "# Função para criar o vetor de sentenças, necessário para treinar o modelo\n",
    "def make_sentence_vector(sentence, word_dict):\n",
    "    idxs = [word_dict[w] for w in sentence]\n",
    "    return torch.tensor(idxs, dtype = torch.long)"
   ]
  },
  {
   "cell_type": "code",
   "execution_count": 0,
   "metadata": {
    "application/vnd.databricks.v1+cell": {
     "cellMetadata": {
      "byteLimit": 2048000,
      "rowLimit": 10000
     },
     "inputWidgets": {},
     "nuid": "92664dbf-3139-4e87-847d-17512afc377f",
     "showTitle": false,
     "title": ""
    }
   },
   "outputs": [
    {
     "output_type": "stream",
     "name": "stdout",
     "output_type": "stream",
     "text": [
      "Out[15]: {'r$': 0,\n 'obscuridade': 1,\n 'reaver': 2,\n 'moraes': 3,\n 'xpto': 4,\n 'referente': 5,\n 'vista': 6,\n '(necessidade': 7,\n 'como': 8,\n 'incompetência': 9,\n 'condenou': 10,\n 'valor': 11,\n 'magistrada': 12,\n 'montante': 13,\n 'desde': 14,\n 'instrução': 15,\n 'fundamento': 16,\n 'as': 17,\n 'julgamento': 18,\n 'inicial': 19,\n 'contudo': 20,\n 'teor:': 21,\n 'para': 22,\n 'impugnar': 23,\n 'exposto': 24,\n 'discorrida': 25,\n 'da': 26,\n 'parte': 27,\n 'posteriormente': 28,\n 'a': 29,\n 'procedentes': 30,\n 'contados': 31,\n 'conciliação': 32,\n 'venda': 33,\n 'solidariamente': 34,\n 'não': 35,\n '235': 36,\n '280': 37,\n 'impugnação': 38,\n 'haja': 39,\n 'ausência': 40,\n 'inpc': 41,\n 'anexados': 42,\n 'embargado': 43,\n 'acima': 44,\n 'deu': 45,\n 'pelo': 46,\n '1234': 47,\n 'fundamentação': 48,\n 'aditamento': 49,\n 'é': 50,\n 'monetariamente': 51,\n 'despesas': 52,\n 'danos': 53,\n 'ação': 54,\n 'pago': 55,\n '20%': 56,\n 'juntados': 57,\n 'bob': 58,\n '236': 59,\n 'os': 60,\n 'consoante': 61,\n 'apenas': 62,\n 'camargo': 63,\n 'julgo': 64,\n 'ajuizamento': 65,\n 'citação;': 66,\n 'todo': 67,\n 'reais)': 68,\n 'de': 69,\n 'omissão': 70,\n 'continuidade': 71,\n 'pedidos': 72,\n 'fls': 73,\n 'incidir': 74,\n 'pagarema': 75,\n 'na': 76,\n 'em': 77,\n 'condeno': 78,\n 'acrescidos': 79,\n 'audiência': 80,\n 'pela': 81,\n 'seguinte': 82,\n 'condenando': 83,\n 'com': 84,\n 'demandadas': 85,\n 'áudios': 86,\n 'compra': 87,\n 'especial)': 88,\n 'mês': 89,\n 'materiais': 90,\n 'partir': 91,\n 'à': 92,\n 'i': 93,\n 'cujo': 94,\n 'imóvel': 95,\n 'proferiu': 96,\n 'juros': 97,\n 'juizado': 98,\n 'sinal': 99,\n 'objeto': 100,\n '277': 101,\n 'devendo': 102,\n 'julgamentos': 103,\n 'cento)': 104,\n 'quinhentos': 105,\n 'técnica': 106,\n 'dos': 107,\n 'contestação': 108,\n 'indenização': 109,\n 'um': 110,\n 'demandante': 111,\n 'diante': 112,\n 'correção': 113,\n '251': 114,\n 'contrato': 115,\n 'monetária': 116,\n '2012': 117,\n 'cpc/2015': 118,\n 'das': 119,\n 'desta': 120,\n 'proposta': 121,\n 'ltda': 122,\n 'ainda': 123,\n 'embargante': 124,\n 'às': 125,\n 'autorizado': 126,\n '254)': 127,\n 'pagos': 128,\n 'já': 129,\n 'preliminares': 130,\n '(vinte': 131,\n 'intimação': 132,\n 'no': 133,\n '24': 134,\n 'morais': 135,\n 'realizar': 136,\n 'fevereiro': 137,\n 'que': 138,\n 'houve': 139,\n 'art': 140,\n 'douta': 141,\n 'venia': 142,\n 'todas': 143,\n 'por': 144,\n 'qual': 145,\n 'sentença': 146,\n 'aos': 147,\n 'foi': 148,\n 'realizada': 149,\n 'data': 150,\n 'do': 151,\n 'descontando': 152,\n 'dado': 153,\n 'título': 154,\n 'ao': 155,\n 'citação': 156,\n 'anterior': 157,\n 'referida': 158,\n 'o': 159,\n 'perícia': 160,\n 'mil': 161,\n 'tratada': 162,\n 'se': 163,\n 'decisão': 164,\n 'e': 165,\n '1%': 166,\n '(um': 167,\n 'entrada': 168,\n '150000': 169,\n 'restituição': 170,\n 'ser': 171,\n 'constantes': 172,\n 'magistrado': 173,\n '(fls': 174,\n 'valores': 175,\n 'corrigidos': 176,\n 'sofreu': 177}"
     ]
    }
   ],
   "source": [
    "# Aqui está nosso dicionário de palavras\n",
    "dic_palavra"
   ]
  },
  {
   "cell_type": "code",
   "execution_count": 0,
   "metadata": {
    "application/vnd.databricks.v1+cell": {
     "cellMetadata": {
      "byteLimit": 2048000,
      "rowLimit": 10000
     },
     "inputWidgets": {},
     "nuid": "9311e085-a7de-4322-b144-ea020ab04f6a",
     "showTitle": false,
     "title": ""
    }
   },
   "outputs": [
    {
     "output_type": "stream",
     "name": "stdout",
     "output_type": "stream",
     "text": [
      "tensor([ 81,  40, 107, 103])\n"
     ]
    }
   ],
   "source": [
    "# O dicionário de palavras será convertido em um vetor de sentenças. Aqui um exemplo:\n",
    "print(make_sentence_vector(['pela','ausência','dos','julgamentos'], dic_palavra))"
   ]
  },
  {
   "cell_type": "markdown",
   "metadata": {
    "application/vnd.databricks.v1+cell": {
     "cellMetadata": {},
     "inputWidgets": {},
     "nuid": "b62ce039-f087-49c6-ad85-04a63bcf81fb",
     "showTitle": false,
     "title": ""
    }
   },
   "source": [
    "### Entrenamiento modelo"
   ]
  },
  {
   "cell_type": "code",
   "execution_count": 0,
   "metadata": {
    "application/vnd.databricks.v1+cell": {
     "cellMetadata": {
      "byteLimit": 2048000,
      "rowLimit": 10000
     },
     "inputWidgets": {},
     "nuid": "938aa3d2-cb57-4fd0-992f-00c8352bde4d",
     "showTitle": false,
     "title": ""
    },
    "scrolled": false
   },
   "outputs": [
    {
     "output_type": "stream",
     "name": "stdout",
     "output_type": "stream",
     "text": [
      "Epoch: 0, Erro do Modelo: 1347.822265625\nEpoch: 1, Erro do Modelo: 1229.6187744140625\nEpoch: 2, Erro do Modelo: 1136.5601806640625\nEpoch: 3, Erro do Modelo: 1044.5963134765625\nEpoch: 4, Erro do Modelo: 947.2789306640625\nEpoch: 5, Erro do Modelo: 842.686279296875\nEpoch: 6, Erro do Modelo: 732.420166015625\nEpoch: 7, Erro do Modelo: 619.4020385742188\nEpoch: 8, Erro do Modelo: 508.1355285644531\nEpoch: 9, Erro do Modelo: 405.05877685546875\nEpoch: 10, Erro do Modelo: 314.5666809082031\nEpoch: 11, Erro do Modelo: 239.31234741210938\nEpoch: 12, Erro do Modelo: 179.80812072753906\nEpoch: 13, Erro do Modelo: 134.8692169189453\nEpoch: 14, Erro do Modelo: 101.64507293701172\nEpoch: 15, Erro do Modelo: 77.64651489257812\nEpoch: 16, Erro do Modelo: 60.70416259765625\nEpoch: 17, Erro do Modelo: 48.62139129638672\nEpoch: 18, Erro do Modelo: 39.89267349243164\nEpoch: 19, Erro do Modelo: 33.39823532104492\nEpoch: 20, Erro do Modelo: 28.52992820739746\nEpoch: 21, Erro do Modelo: 24.784404754638672\nEpoch: 22, Erro do Modelo: 21.869651794433594\nEpoch: 23, Erro do Modelo: 19.525636672973633\nEpoch: 24, Erro do Modelo: 17.623075485229492\nEpoch: 25, Erro do Modelo: 16.040245056152344\nEpoch: 26, Erro do Modelo: 14.710165977478027\nEpoch: 27, Erro do Modelo: 13.573029518127441\nEpoch: 28, Erro do Modelo: 12.592241287231445\nEpoch: 29, Erro do Modelo: 11.7399263381958\nEpoch: 30, Erro do Modelo: 10.988497734069824\nEpoch: 31, Erro do Modelo: 10.327089309692383\nEpoch: 32, Erro do Modelo: 9.733344078063965\nEpoch: 33, Erro do Modelo: 9.204962730407715\nEpoch: 34, Erro do Modelo: 8.725240707397461\nEpoch: 35, Erro do Modelo: 8.292683601379395\nEpoch: 36, Erro do Modelo: 7.898786544799805\nEpoch: 37, Erro do Modelo: 7.539007186889648\nEpoch: 38, Erro do Modelo: 7.208205699920654\nEpoch: 39, Erro do Modelo: 6.905085563659668\nEpoch: 40, Erro do Modelo: 6.623833179473877\nEpoch: 41, Erro do Modelo: 6.3654561042785645\nEpoch: 42, Erro do Modelo: 6.123476028442383\nEpoch: 43, Erro do Modelo: 5.900366306304932\nEpoch: 44, Erro do Modelo: 5.690730571746826\nEpoch: 45, Erro do Modelo: 5.495296955108643\nEpoch: 46, Erro do Modelo: 5.3122382164001465\nEpoch: 47, Erro do Modelo: 5.1399102210998535\nEpoch: 48, Erro do Modelo: 4.978692531585693\nEpoch: 49, Erro do Modelo: 4.8257856369018555\nEpoch: 50, Erro do Modelo: 4.68267297744751\nEpoch: 51, Erro do Modelo: 4.546416282653809\nEpoch: 52, Erro do Modelo: 4.41803503036499\nEpoch: 53, Erro do Modelo: 4.295625686645508\nEpoch: 54, Erro do Modelo: 4.180432319641113\nEpoch: 55, Erro do Modelo: 4.070242404937744\nEpoch: 56, Erro do Modelo: 3.9656102657318115\nEpoch: 57, Erro do Modelo: 3.8662045001983643\nEpoch: 58, Erro do Modelo: 3.770777702331543\nEpoch: 59, Erro do Modelo: 3.680192470550537\nEpoch: 60, Erro do Modelo: 3.5934383869171143\nEpoch: 61, Erro do Modelo: 3.5107483863830566\nEpoch: 62, Erro do Modelo: 3.431385040283203\nEpoch: 63, Erro do Modelo: 3.3552920818328857\nEpoch: 64, Erro do Modelo: 3.2823221683502197\nEpoch: 65, Erro do Modelo: 3.212510347366333\nEpoch: 66, Erro do Modelo: 3.1451103687286377\nEpoch: 67, Erro do Modelo: 3.080775499343872\nEpoch: 68, Erro do Modelo: 3.0184364318847656\nEpoch: 69, Erro do Modelo: 2.9586336612701416\nEpoch: 70, Erro do Modelo: 2.9012084007263184\nEpoch: 71, Erro do Modelo: 2.8456554412841797\nEpoch: 72, Erro do Modelo: 2.791994571685791\nEpoch: 73, Erro do Modelo: 2.740445852279663\nEpoch: 74, Erro do Modelo: 2.6903419494628906\nEpoch: 75, Erro do Modelo: 2.642242431640625\nEpoch: 76, Erro do Modelo: 2.5955677032470703\nEpoch: 77, Erro do Modelo: 2.5505595207214355\nEpoch: 78, Erro do Modelo: 2.50669527053833\nEpoch: 79, Erro do Modelo: 2.4645168781280518\nEpoch: 80, Erro do Modelo: 2.423370122909546\nEpoch: 81, Erro do Modelo: 2.3838248252868652\nEpoch: 82, Erro do Modelo: 2.345345973968506\nEpoch: 83, Erro do Modelo: 2.307873487472534\nEpoch: 84, Erro do Modelo: 2.2716522216796875\nEpoch: 85, Erro do Modelo: 2.2365882396698\nEpoch: 86, Erro do Modelo: 2.20224666595459\nEpoch: 87, Erro do Modelo: 2.1692161560058594\nEpoch: 88, Erro do Modelo: 2.13683819770813\nEpoch: 89, Erro do Modelo: 2.1054441928863525\nEpoch: 90, Erro do Modelo: 2.0749309062957764\nEpoch: 91, Erro do Modelo: 2.045201063156128\nEpoch: 92, Erro do Modelo: 2.0163094997406006\nEpoch: 93, Erro do Modelo: 1.9881539344787598\nEpoch: 94, Erro do Modelo: 1.9607576131820679\nEpoch: 95, Erro do Modelo: 1.9340074062347412\nEpoch: 96, Erro do Modelo: 1.907963752746582\nEpoch: 97, Erro do Modelo: 1.8825550079345703\nEpoch: 98, Erro do Modelo: 1.8578060865402222\nEpoch: 99, Erro do Modelo: 1.8337339162826538\nEpoch: 100, Erro do Modelo: 1.8100340366363525\nEpoch: 101, Erro do Modelo: 1.7871116399765015\nEpoch: 102, Erro do Modelo: 1.7646998167037964\nEpoch: 103, Erro do Modelo: 1.7426252365112305\nEpoch: 104, Erro do Modelo: 1.7213023900985718\nEpoch: 105, Erro do Modelo: 1.7002936601638794\nEpoch: 106, Erro do Modelo: 1.6799224615097046\nEpoch: 107, Erro do Modelo: 1.6597847938537598\nEpoch: 108, Erro do Modelo: 1.6403287649154663\nEpoch: 109, Erro do Modelo: 1.6211185455322266\nEpoch: 110, Erro do Modelo: 1.6024805307388306\nEpoch: 111, Erro do Modelo: 1.5841749906539917\nEpoch: 112, Erro do Modelo: 1.5662163496017456\nEpoch: 113, Erro do Modelo: 1.5487180948257446\nEpoch: 114, Erro do Modelo: 1.5314736366271973\nEpoch: 115, Erro do Modelo: 1.514710783958435\nEpoch: 116, Erro do Modelo: 1.49825918674469\nEpoch: 117, Erro do Modelo: 1.4821206331253052\nEpoch: 118, Erro do Modelo: 1.466257929801941\nEpoch: 119, Erro do Modelo: 1.4507697820663452\nEpoch: 120, Erro do Modelo: 1.4356070756912231\nEpoch: 121, Erro do Modelo: 1.4206879138946533\nEpoch: 122, Erro do Modelo: 1.4060536623001099\nEpoch: 123, Erro do Modelo: 1.3917427062988281\nEpoch: 124, Erro do Modelo: 1.3776907920837402\nEpoch: 125, Erro do Modelo: 1.3638885021209717\nEpoch: 126, Erro do Modelo: 1.3504027128219604\nEpoch: 127, Erro do Modelo: 1.3370780944824219\nEpoch: 128, Erro do Modelo: 1.3240584135055542\nEpoch: 129, Erro do Modelo: 1.311267614364624\nEpoch: 130, Erro do Modelo: 1.298698902130127\nEpoch: 131, Erro do Modelo: 1.2863587141036987\nEpoch: 132, Erro do Modelo: 1.2742406129837036\nEpoch: 133, Erro do Modelo: 1.2623246908187866\nEpoch: 134, Erro do Modelo: 1.250614881515503\nEpoch: 135, Erro do Modelo: 1.2391475439071655\nEpoch: 136, Erro do Modelo: 1.2278465032577515\nEpoch: 137, Erro do Modelo: 1.216763973236084\nEpoch: 138, Erro do Modelo: 1.2057983875274658\nEpoch: 139, Erro do Modelo: 1.1951020956039429\nEpoch: 140, Erro do Modelo: 1.184522271156311\nEpoch: 141, Erro do Modelo: 1.1741474866867065\nEpoch: 142, Erro do Modelo: 1.1639424562454224\nEpoch: 143, Erro do Modelo: 1.1538864374160767\nEpoch: 144, Erro do Modelo: 1.1440199613571167\nEpoch: 145, Erro do Modelo: 1.134289026260376\nEpoch: 146, Erro do Modelo: 1.1247103214263916\nEpoch: 147, Erro do Modelo: 1.1152924299240112\nEpoch: 148, Erro do Modelo: 1.1060189008712769\nEpoch: 149, Erro do Modelo: 1.0968959331512451\n"
     ]
    }
   ],
   "source": [
    "# Loop por 150 passadas (epochs) de treinamento\n",
    "for epoch in range(150):\n",
    "    \n",
    "    # Inicia o erro da época com 0\n",
    "    epoch_loss = 0\n",
    "    \n",
    "    # Loop pelos dados de entrada (sentence) e saída (target)\n",
    "    for sentence, target in dados:\n",
    "        \n",
    "        # Inicializa os gradientes com zero\n",
    "        modelo.zero_grad()\n",
    "        \n",
    "        # Cria o vetor de sentença com os dados de entrada (que devem estar no dicionário de palavras)\n",
    "        sentence_vector = make_sentence_vector(sentence, dic_palavra)  \n",
    "        \n",
    "        # Usa o vetor para fazer previsões com o modelo e retorna as probabilidades\n",
    "        log_probs = modelo(sentence_vector)\n",
    "        \n",
    "        # Calcula o erro do modelo\n",
    "        loss = loss_function(log_probs, torch.tensor([dic_palavra[target]], dtype = torch.long))\n",
    "        \n",
    "        # Chama o método de backpropagation para calcular o gradiente da derivada\n",
    "        loss.backward()\n",
    "        \n",
    "        # Otimiza os pesos do modelo e segue para a próxima passada\n",
    "        # É aqui que o aprendizado acontece\n",
    "        optimizer.step()\n",
    "        \n",
    "        # Atualiza o erro da época\n",
    "        epoch_loss += loss.data\n",
    "        \n",
    "    # Imprime epoch e erro da epoch    \n",
    "    print('Epoch: ' + str(epoch) + ', Erro do Modelo: ' + str(epoch_loss.item()))"
   ]
  },
  {
   "cell_type": "markdown",
   "metadata": {
    "application/vnd.databricks.v1+cell": {
     "cellMetadata": {},
     "inputWidgets": {},
     "nuid": "a04bbf34-0e55-46d0-8084-f7e79f1f90e2",
     "showTitle": false,
     "title": ""
    }
   },
   "source": [
    "Nótese cómo se ha ido reduciendo el error con cada pasada, produciéndose claramente un aprendizaje. Ahora usemos el modelo para hacer predicciones."
   ]
  },
  {
   "cell_type": "code",
   "execution_count": 0,
   "metadata": {
    "application/vnd.databricks.v1+cell": {
     "cellMetadata": {
      "byteLimit": 2048000,
      "rowLimit": 10000
     },
     "inputWidgets": {},
     "nuid": "d274cf7e-06c7-45a7-8d68-c1bab7d22630",
     "showTitle": false,
     "title": ""
    }
   },
   "outputs": [],
   "source": [
    "# Função para obter uma previsão\n",
    "def get_resultado_previsto(input, dic_inverso_palavra):\n",
    "    index = np.argmax(input)\n",
    "    return dic_inverso_palavra[index]"
   ]
  },
  {
   "cell_type": "code",
   "execution_count": 0,
   "metadata": {
    "application/vnd.databricks.v1+cell": {
     "cellMetadata": {
      "byteLimit": 2048000,
      "rowLimit": 10000
     },
     "inputWidgets": {},
     "nuid": "2e6ee62f-07f7-4704-8517-4bd66262fea0",
     "showTitle": false,
     "title": ""
    }
   },
   "outputs": [],
   "source": [
    "# Função para prever sentenças (aplicamos aos novos dados o mesmo tratamento usado nos dados de treino)\n",
    "def preve_sentenca(sentence):\n",
    "    \n",
    "    # Dividimos a sentença com split\n",
    "    sentence_split = sentence.replace('.','').lower().split()\n",
    "    \n",
    "    # Criamos o vetor de sentença\n",
    "    sentence_vector = make_sentence_vector(sentence_split, dic_palavra)\n",
    "    \n",
    "    # Faz a previsão com o modelo\n",
    "    prediction_array = modelo(sentence_vector).data.numpy()\n",
    "    \n",
    "    # Print dos resultados\n",
    "    print('Palavras Anteriores: {}\\n'.format(sentence_split[:2]))\n",
    "    print('Palavra Prevista: {}\\n'.format(get_resultado_previsto(prediction_array[0], dic_inverso_palavra)))\n",
    "    print('Palavras Seguintes: {}\\n'.format(sentence_split[2:]))"
   ]
  },
  {
   "cell_type": "markdown",
   "metadata": {
    "application/vnd.databricks.v1+cell": {
     "cellMetadata": {},
     "inputWidgets": {},
     "nuid": "91aaab82-8669-472b-8bd2-4c5f52a16dd1",
     "showTitle": false,
     "title": ""
    }
   },
   "source": [
    "### Predicciones con el modelo"
   ]
  },
  {
   "cell_type": "markdown",
   "metadata": {
    "application/vnd.databricks.v1+cell": {
     "cellMetadata": {},
     "inputWidgets": {},
     "nuid": "4d42461a-e97e-435d-ab54-f4c3937aa640",
     "showTitle": false,
     "title": ""
    }
   },
   "source": [
    "Dentro de la oración: **\"ausência de intimação anterior para realizar\"**, veamos si el modelo puede predecir la palabra.\n",
    "\n",
    "Voy a omitir la palabra **intimação** y esa debería ser la palabra predicha por el modelo. Pasemos como entrada las dos palabras anteriores y las dos posteriores."
   ]
  },
  {
   "cell_type": "code",
   "execution_count": 0,
   "metadata": {
    "application/vnd.databricks.v1+cell": {
     "cellMetadata": {
      "byteLimit": 2048000,
      "rowLimit": 10000
     },
     "inputWidgets": {},
     "nuid": "07a46f57-c990-41ac-9733-ffd11e8759fb",
     "showTitle": false,
     "title": ""
    }
   },
   "outputs": [
    {
     "output_type": "stream",
     "name": "stdout",
     "output_type": "stream",
     "text": [
      "Palavras Anteriores: ['ausência', 'de']\n\nPalavra Prevista: intimação\n\nPalavras Seguintes: ['anterior', 'para']\n\n"
     ]
    }
   ],
   "source": [
    "# Previsão com o modelo\n",
    "preve_sentenca('ausência de anterior para')"
   ]
  },
  {
   "cell_type": "code",
   "execution_count": 0,
   "metadata": {
    "application/vnd.databricks.v1+cell": {
     "cellMetadata": {
      "byteLimit": 2048000,
      "rowLimit": 10000
     },
     "inputWidgets": {},
     "nuid": "1c819678-4f5e-4962-8551-eabd8b1196b8",
     "showTitle": false,
     "title": ""
    }
   },
   "outputs": [
    {
     "output_type": "stream",
     "name": "stdout",
     "output_type": "stream",
     "text": [
      "tensor([[-0.4916, -0.9850, -0.6488,  0.0961,  1.3510, -1.1238, -0.3378,  0.8000,\n         -0.4194, -0.5021, -0.5944, -1.2084,  0.4076, -0.9108,  0.2849,  0.4788,\n          1.3720, -0.0715, -0.0460, -1.6440]], grad_fn=<ViewBackward0>)\n"
     ]
    }
   ],
   "source": [
    "# Emdedding da palavra\n",
    "print(modelo.get_word_emdedding('intimação'))"
   ]
  },
  {
   "cell_type": "markdown",
   "metadata": {
    "application/vnd.databricks.v1+cell": {
     "cellMetadata": {},
     "inputWidgets": {},
     "nuid": "b5010ed3-cd67-40a7-b926-a143a2560947",
     "showTitle": false,
     "title": ""
    }
   },
   "source": [
    "¡Perfecto! El modelo predijo la sentencia en la Declaración de Embargo! Un ejemplo más."
   ]
  },
  {
   "cell_type": "markdown",
   "metadata": {
    "application/vnd.databricks.v1+cell": {
     "cellMetadata": {},
     "inputWidgets": {},
     "nuid": "7450f4a5-b77f-4484-9cf8-8946971a6bbb",
     "showTitle": false,
     "title": ""
    }
   },
   "source": [
    "Dentro de la oración: **\"devendo incidir juros de 1%\"**, veamos si el modelo puede predecir la palabra.\n",
    "\n",
    "Voy a omitir la palabra **juros** y esa debería ser la palabra predicha por el modelo. Pasemos como entrada las dos palabras anteriores y las dos posteriores."
   ]
  },
  {
   "cell_type": "code",
   "execution_count": 0,
   "metadata": {
    "application/vnd.databricks.v1+cell": {
     "cellMetadata": {
      "byteLimit": 2048000,
      "rowLimit": 10000
     },
     "inputWidgets": {},
     "nuid": "fc002afa-ef2b-4334-98f2-d7f81fe55fdd",
     "showTitle": false,
     "title": ""
    }
   },
   "outputs": [
    {
     "output_type": "stream",
     "name": "stdout",
     "output_type": "stream",
     "text": [
      "Palavras Anteriores: ['devendo', 'incidir']\n\nPalavra Prevista: juros\n\nPalavras Seguintes: ['de', '1%']\n\n"
     ]
    }
   ],
   "source": [
    "# Previsão com o modelo\n",
    "preve_sentenca('devendo incidir de 1%')"
   ]
  },
  {
   "cell_type": "markdown",
   "metadata": {
    "application/vnd.databricks.v1+cell": {
     "cellMetadata": {},
     "inputWidgets": {},
     "nuid": "017492e8-fd75-4ace-9b80-7edef928498b",
     "showTitle": false,
     "title": ""
    }
   },
   "source": [
    "¡Perfecto! El modelo predijo la sentencia en la Declaración de Embargo! Y CBoW no es el modelo más avanzado en PNL."
   ]
  },
  {
   "cell_type": "markdown",
   "metadata": {
    "application/vnd.databricks.v1+cell": {
     "cellMetadata": {},
     "inputWidgets": {},
     "nuid": "d211ea77-3bd5-4874-900d-15fb6cb1f4fc",
     "showTitle": false,
     "title": ""
    },
    "collapsed": true
   },
   "source": [
    "# Fin"
   ]
  }
 ],
 "metadata": {
  "application/vnd.databricks.v1+notebook": {
   "dashboards": [],
   "language": "python",
   "notebookMetadata": {
    "pythonIndentUnit": 2
   },
   "notebookName": "Script",
   "notebookOrigID": 3783677874757761,
   "widgets": {}
  },
  "kernelspec": {
   "display_name": "Python 3",
   "language": "python",
   "name": "python3"
  },
  "language_info": {
   "codemirror_mode": {
    "name": "ipython",
    "version": 3
   },
   "file_extension": ".py",
   "mimetype": "text/x-python",
   "name": "python",
   "nbconvert_exporter": "python",
   "pygments_lexer": "ipython3",
   "version": "3.7.6"
  }
 },
 "nbformat": 4,
 "nbformat_minor": 0
}
